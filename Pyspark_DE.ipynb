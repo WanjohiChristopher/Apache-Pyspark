{
  "nbformat": 4,
  "nbformat_minor": 0,
  "metadata": {
    "colab": {
      "name": "Pyspark DE.ipynb",
      "provenance": [],
      "authorship_tag": "ABX9TyOXR5lfYCXvtJRw/lEJ8Ucm",
      "include_colab_link": true
    },
    "kernelspec": {
      "name": "python3",
      "display_name": "Python 3"
    },
    "language_info": {
      "name": "python"
    }
  },
  "cells": [
    {
      "cell_type": "markdown",
      "metadata": {
        "id": "view-in-github",
        "colab_type": "text"
      },
      "source": [
        "<a href=\"https://colab.research.google.com/github/WanjohiChristopher/Apache-Pyspark/blob/main/Pyspark_DE.ipynb\" target=\"_parent\"><img src=\"https://colab.research.google.com/assets/colab-badge.svg\" alt=\"Open In Colab\"/></a>"
      ]
    },
    {
      "cell_type": "code",
      "metadata": {
        "colab": {
          "base_uri": "https://localhost:8080/"
        },
        "id": "UTlu_qaIqYsO",
        "outputId": "2f9a2f4c-0f85-4096-cb7b-0aaf028722eb"
      },
      "source": [
        "from google.colab import drive\n",
        "drive.mount('/content/drive')"
      ],
      "execution_count": null,
      "outputs": [
        {
          "output_type": "stream",
          "name": "stdout",
          "text": [
            "Mounted at /content/drive\n"
          ]
        }
      ]
    },
    {
      "cell_type": "code",
      "metadata": {
        "colab": {
          "base_uri": "https://localhost:8080/"
        },
        "id": "Nm9MQOdipyhG",
        "outputId": "298b73d3-1130-4daa-a262-850d05203377"
      },
      "source": [
        "# install py4j\n",
        "!pip install py4j\n",
        "\n",
        "# install java\n",
        "!apt-get install openjdk-8-jdk-headless -qq > /dev/null\n",
        "\n",
        "# install spark (change the version number if needed)\n",
        "\n",
        "!wget -q https://archive.apache.org/dist/spark/spark-3.0.2/spark-3.0.2-bin-hadoop3.2.tgz\n",
        "\n",
        "# unzip the spark file to the current folder\n",
        "!tar xf spark-3.0.2-bin-hadoop3.2.tgz\n",
        "\n",
        "# set your spark folder to your system path environment. \n",
        "import os\n",
        "os.environ[\"JAVA_HOME\"] = \"/usr/lib/jvm/java-8-openjdk-amd64\"\n",
        "os.environ[\"SPARK_HOME\"] = \"/content/spark-3.0.2-bin-hadoop3.2\"\n",
        "\n",
        "\n",
        "# install findspark using pip\n",
        "!pip install -q findspark\n",
        "\n",
        "# Install pyspark\n",
        "!pip install pyspark"
      ],
      "execution_count": null,
      "outputs": [
        {
          "output_type": "stream",
          "name": "stdout",
          "text": [
            "Collecting py4j\n",
            "  Downloading py4j-0.10.9.3-py2.py3-none-any.whl (198 kB)\n",
            "\u001b[?25l\r\u001b[K     |█▋                              | 10 kB 32.3 MB/s eta 0:00:01\r\u001b[K     |███▎                            | 20 kB 20.7 MB/s eta 0:00:01\r\u001b[K     |█████                           | 30 kB 16.3 MB/s eta 0:00:01\r\u001b[K     |██████▋                         | 40 kB 14.6 MB/s eta 0:00:01\r\u001b[K     |████████▎                       | 51 kB 16.2 MB/s eta 0:00:01\r\u001b[K     |█████████▉                      | 61 kB 12.9 MB/s eta 0:00:01\r\u001b[K     |███████████▌                    | 71 kB 14.4 MB/s eta 0:00:01\r\u001b[K     |█████████████▏                  | 81 kB 15.9 MB/s eta 0:00:01\r\u001b[K     |██████████████▉                 | 92 kB 16.8 MB/s eta 0:00:01\r\u001b[K     |████████████████▌               | 102 kB 15.2 MB/s eta 0:00:01\r\u001b[K     |██████████████████▏             | 112 kB 15.2 MB/s eta 0:00:01\r\u001b[K     |███████████████████▊            | 122 kB 15.2 MB/s eta 0:00:01\r\u001b[K     |█████████████████████▍          | 133 kB 15.2 MB/s eta 0:00:01\r\u001b[K     |███████████████████████         | 143 kB 15.2 MB/s eta 0:00:01\r\u001b[K     |████████████████████████▊       | 153 kB 15.2 MB/s eta 0:00:01\r\u001b[K     |██████████████████████████▍     | 163 kB 15.2 MB/s eta 0:00:01\r\u001b[K     |████████████████████████████    | 174 kB 15.2 MB/s eta 0:00:01\r\u001b[K     |█████████████████████████████▋  | 184 kB 15.2 MB/s eta 0:00:01\r\u001b[K     |███████████████████████████████▎| 194 kB 15.2 MB/s eta 0:00:01\r\u001b[K     |████████████████████████████████| 198 kB 15.2 MB/s \n",
            "\u001b[?25hInstalling collected packages: py4j\n",
            "Successfully installed py4j-0.10.9.3\n",
            "Collecting pyspark\n",
            "  Downloading pyspark-3.2.0.tar.gz (281.3 MB)\n",
            "\u001b[K     |████████████████████████████████| 281.3 MB 38 kB/s \n",
            "\u001b[?25hCollecting py4j==0.10.9.2\n",
            "  Downloading py4j-0.10.9.2-py2.py3-none-any.whl (198 kB)\n",
            "\u001b[K     |████████████████████████████████| 198 kB 58.5 MB/s \n",
            "\u001b[?25hBuilding wheels for collected packages: pyspark\n",
            "  Building wheel for pyspark (setup.py) ... \u001b[?25l\u001b[?25hdone\n",
            "  Created wheel for pyspark: filename=pyspark-3.2.0-py2.py3-none-any.whl size=281805911 sha256=76f3e930e51f4f2c108a575dcfc3830be5a4bb5d2d8ba9311f1d7e33d05a5151\n",
            "  Stored in directory: /root/.cache/pip/wheels/0b/de/d2/9be5d59d7331c6c2a7c1b6d1a4f463ce107332b1ecd4e80718\n",
            "Successfully built pyspark\n",
            "Installing collected packages: py4j, pyspark\n",
            "  Attempting uninstall: py4j\n",
            "    Found existing installation: py4j 0.10.9.3\n",
            "    Uninstalling py4j-0.10.9.3:\n",
            "      Successfully uninstalled py4j-0.10.9.3\n",
            "Successfully installed py4j-0.10.9.2 pyspark-3.2.0\n"
          ]
        }
      ]
    },
    {
      "cell_type": "code",
      "metadata": {
        "id": "tIIi8Q9Xqz-2"
      },
      "source": [
        "# findspark will locate spark in the system\n",
        "import findspark\n",
        "findspark.init()"
      ],
      "execution_count": null,
      "outputs": []
    },
    {
      "cell_type": "code",
      "metadata": {
        "colab": {
          "base_uri": "https://localhost:8080/"
        },
        "id": "zZHPEVuYq1Jv",
        "outputId": "caee261b-f714-40fb-ec0a-1290a1be02eb"
      },
      "source": [
        "import pyspark\n",
        "from pyspark.sql import SparkSession\n",
        "spark = SparkSession.builder.getOrCreate\n",
        "spark"
      ],
      "execution_count": null,
      "outputs": [
        {
          "output_type": "execute_result",
          "data": {
            "text/plain": [
              "<bound method SparkSession.Builder.getOrCreate of <pyspark.sql.session.SparkSession.Builder object at 0x7f398ad54890>>"
            ]
          },
          "metadata": {},
          "execution_count": 4
        }
      ]
    },
    {
      "cell_type": "code",
      "metadata": {
        "id": "UX_wUUryq65W"
      },
      "source": [
        "# Import dependencies \n",
        "from pyspark.sql import functions as F\n",
        "from pyspark.sql import types as T\n",
        "\n",
        "# StringIndexer is similar to labelencoder which gives a label to each category\n",
        "# OneHotEncoder created onehot encoding vector\n",
        "from pyspark.ml.feature import StringIndexer, OneHotEncoder\n",
        "\n",
        "# VectorAssembler is used to create vector from the features. MOdeling takes vector as an input\n",
        "from pyspark.ml.feature import VectorAssembler\n",
        "\n",
        "# DecisionTreeClassifier is used for classification problems\n",
        "from pyspark.ml.classification import DecisionTreeClassifier\n",
        "# For regression problems\n",
        "from pyspark.ml.classification import LogisticRegression"
      ],
      "execution_count": null,
      "outputs": []
    },
    {
      "cell_type": "code",
      "metadata": {
        "id": "pCS265tkrIJG"
      },
      "source": [
        "#reading data\n",
        "spark = SparkSession.builder.master(\"local\").appName(\"Classify Urls\").getOrCreate()\n",
        "df =spark.read.csv('/content/drive/MyDrive/Weatherdata/weatherHistory.csv', \n",
        "                         header=True, \n",
        "                         multiLine=True, \n",
        "                         ignoreLeadingWhiteSpace=True, \n",
        "                         ignoreTrailingWhiteSpace=True, \n",
        "                         encoding=\"UTF-8\",\n",
        "                         sep=',',\n",
        "                         quote='\"', \n",
        "                         escape='\"'\n",
        "                        )"
      ],
      "execution_count": null,
      "outputs": []
    },
    {
      "cell_type": "code",
      "metadata": {
        "colab": {
          "base_uri": "https://localhost:8080/"
        },
        "id": "ZZEG30glrpMs",
        "outputId": "9578f7b4-55b9-403c-a04e-6019202c71b7"
      },
      "source": [
        "df.show(10)"
      ],
      "execution_count": null,
      "outputs": [
        {
          "output_type": "stream",
          "name": "stdout",
          "text": [
            "+--------------------+-------------+-----------+-----------------+------------------------+--------+------------------+----------------------+------------------+----------+--------------------+--------------------+\n",
            "|      Formatted Date|      Summary|Precip Type|  Temperature (C)|Apparent Temperature (C)|Humidity| Wind Speed (km/h)|Wind Bearing (degrees)|   Visibility (km)|Loud Cover|Pressure (millibars)|       Daily Summary|\n",
            "+--------------------+-------------+-----------+-----------------+------------------------+--------+------------------+----------------------+------------------+----------+--------------------+--------------------+\n",
            "|2006-04-01 00:00:...|Partly Cloudy|       rain|9.472222222222221|      7.3888888888888875|    0.89|           14.1197|                 251.0|15.826300000000002|       0.0|             1015.13|Partly cloudy thr...|\n",
            "|2006-04-01 01:00:...|Partly Cloudy|       rain|9.355555555555558|       7.227777777777776|    0.86|           14.2646|                 259.0|15.826300000000002|       0.0|             1015.63|Partly cloudy thr...|\n",
            "|2006-04-01 02:00:...|Mostly Cloudy|       rain|9.377777777777778|       9.377777777777778|    0.89|3.9284000000000003|                 204.0|           14.9569|       0.0|             1015.94|Partly cloudy thr...|\n",
            "|2006-04-01 03:00:...|Partly Cloudy|       rain| 8.28888888888889|       5.944444444444446|    0.83|           14.1036|                 269.0|15.826300000000002|       0.0|             1016.41|Partly cloudy thr...|\n",
            "|2006-04-01 04:00:...|Mostly Cloudy|       rain|8.755555555555553|       6.977777777777779|    0.83|           11.0446|                 259.0|15.826300000000002|       0.0|             1016.51|Partly cloudy thr...|\n",
            "|2006-04-01 05:00:...|Partly Cloudy|       rain|9.222222222222221|        7.11111111111111|    0.85|           13.9587|                 258.0|           14.9569|       0.0|             1016.66|Partly cloudy thr...|\n",
            "|2006-04-01 06:00:...|Partly Cloudy|       rain|7.733333333333334|       5.522222222222221|    0.95|           12.3648|                 259.0| 9.982000000000001|       0.0|             1016.72|Partly cloudy thr...|\n",
            "|2006-04-01 07:00:...|Partly Cloudy|       rain| 8.77222222222222|       6.527777777777778|    0.89|           14.1519|                 260.0| 9.982000000000001|       0.0|             1016.84|Partly cloudy thr...|\n",
            "|2006-04-01 08:00:...|Partly Cloudy|       rain|10.82222222222222|       10.82222222222222|    0.82|           11.3183|                 259.0| 9.982000000000001|       0.0|             1017.37|Partly cloudy thr...|\n",
            "|2006-04-01 09:00:...|Partly Cloudy|       rain|13.77222222222222|       13.77222222222222|    0.72|12.525800000000002|                 279.0| 9.982000000000001|       0.0|             1017.22|Partly cloudy thr...|\n",
            "+--------------------+-------------+-----------+-----------------+------------------------+--------+------------------+----------------------+------------------+----------+--------------------+--------------------+\n",
            "only showing top 10 rows\n",
            "\n"
          ]
        }
      ]
    },
    {
      "cell_type": "code",
      "metadata": {
        "colab": {
          "base_uri": "https://localhost:8080/"
        },
        "id": "-HJrPMSRwSRH",
        "outputId": "70f64815-05b8-4e2d-8734-b77a132b3021"
      },
      "source": [
        "#Checking the columns\n",
        "df.columns"
      ],
      "execution_count": null,
      "outputs": [
        {
          "output_type": "execute_result",
          "data": {
            "text/plain": [
              "['Formatted Date',\n",
              " 'Summary',\n",
              " 'Precip Type',\n",
              " 'Temperature (C)',\n",
              " 'Apparent Temperature (C)',\n",
              " 'Humidity',\n",
              " 'Wind Speed (km/h)',\n",
              " 'Wind Bearing (degrees)',\n",
              " 'Visibility (km)',\n",
              " 'Loud Cover',\n",
              " 'Pressure (millibars)',\n",
              " 'Daily Summary']"
            ]
          },
          "metadata": {},
          "execution_count": 8
        }
      ]
    },
    {
      "cell_type": "code",
      "metadata": {
        "colab": {
          "base_uri": "https://localhost:8080/"
        },
        "id": "b1c7ywmUxleZ",
        "outputId": "6a4af706-ed35-4d53-b367-8f9f1f5798bc"
      },
      "source": [
        "df.dtypes"
      ],
      "execution_count": null,
      "outputs": [
        {
          "output_type": "execute_result",
          "data": {
            "text/plain": [
              "[('Formatted Date', 'string'),\n",
              " ('Summary', 'string'),\n",
              " ('Precip Type', 'string'),\n",
              " ('Temperature (C)', 'string'),\n",
              " ('Apparent Temperature (C)', 'string'),\n",
              " ('Humidity', 'string'),\n",
              " ('Wind Speed (km/h)', 'string'),\n",
              " ('Wind Bearing (degrees)', 'string'),\n",
              " ('Visibility (km)', 'string'),\n",
              " ('Loud Cover', 'string'),\n",
              " ('Pressure (millibars)', 'string'),\n",
              " ('Daily Summary', 'string')]"
            ]
          },
          "metadata": {},
          "execution_count": 9
        }
      ]
    },
    {
      "cell_type": "code",
      "metadata": {
        "colab": {
          "base_uri": "https://localhost:8080/"
        },
        "id": "zpErfvDwxo0m",
        "outputId": "63603a56-994b-4d42-aace-70eae6bc6272"
      },
      "source": [
        "# Printing the table schema\n",
        "df.printSchema()"
      ],
      "execution_count": null,
      "outputs": [
        {
          "output_type": "stream",
          "name": "stdout",
          "text": [
            "root\n",
            " |-- Formatted Date: string (nullable = true)\n",
            " |-- Summary: string (nullable = true)\n",
            " |-- Precip Type: string (nullable = true)\n",
            " |-- Temperature (C): string (nullable = true)\n",
            " |-- Apparent Temperature (C): string (nullable = true)\n",
            " |-- Humidity: string (nullable = true)\n",
            " |-- Wind Speed (km/h): string (nullable = true)\n",
            " |-- Wind Bearing (degrees): string (nullable = true)\n",
            " |-- Visibility (km): string (nullable = true)\n",
            " |-- Loud Cover: string (nullable = true)\n",
            " |-- Pressure (millibars): string (nullable = true)\n",
            " |-- Daily Summary: string (nullable = true)\n",
            "\n"
          ]
        }
      ]
    },
    {
      "cell_type": "code",
      "metadata": {
        "colab": {
          "base_uri": "https://localhost:8080/"
        },
        "id": "eagiHJSdzTRY",
        "outputId": "01991dd2-a60f-420a-f2cd-b9a5b8b13aa9"
      },
      "source": [
        "#counting records\n",
        "df.count()"
      ],
      "execution_count": null,
      "outputs": [
        {
          "output_type": "execute_result",
          "data": {
            "text/plain": [
              "96453"
            ]
          },
          "metadata": {},
          "execution_count": 11
        }
      ]
    },
    {
      "cell_type": "code",
      "metadata": {
        "colab": {
          "base_uri": "https://localhost:8080/"
        },
        "id": "W56QQ1OWz1hq",
        "outputId": "f52cd93d-3ba0-484e-977d-55b32ed8ba25"
      },
      "source": [
        "# We perform  summary statistics\n",
        "df.describe().show()"
      ],
      "execution_count": null,
      "outputs": [
        {
          "output_type": "stream",
          "name": "stdout",
          "text": [
            "+-------+--------------------+--------------------+-----------+--------------------+------------------------+-------------------+------------------+----------------------+------------------+----------+--------------------+--------------------+\n",
            "|summary|      Formatted Date|             Summary|Precip Type|     Temperature (C)|Apparent Temperature (C)|           Humidity| Wind Speed (km/h)|Wind Bearing (degrees)|   Visibility (km)|Loud Cover|Pressure (millibars)|       Daily Summary|\n",
            "+-------+--------------------+--------------------+-----------+--------------------+------------------------+-------------------+------------------+----------------------+------------------+----------+--------------------+--------------------+\n",
            "|  count|               96453|               96453|      96453|               96453|                   96453|              96453|             96453|                 96453|             96453|     96453|               96453|               96453|\n",
            "|   mean|                null|                null|       null|  11.932678437511868|      10.855028874166726| 0.7348989663358906|10.810640140793208|    187.50923247592092|10.347324929237148|       0.0|  1003.2359558541606|                null|\n",
            "| stddev|                null|                null|       null|    9.55154632065698|       10.69684739211911|0.19547273906721474| 6.913571012591965|    107.38342838070518| 4.192123191422759|       0.0|   116.9699056825797|                null|\n",
            "|    min|2006-01-01 00:00:...|              Breezy|       null|-0.00555555555555...|    -0.00555555555555...|                0.0|               0.0|                   0.0|               0.0|       0.0|                 0.0|Breezy and foggy ...|\n",
            "|    max|2016-12-31 23:00:...|Windy and Partly ...|       snow|   9.994444444444447|       9.994444444444447|                1.0|            9.9981|                  99.0|            9.9981|       0.0|              999.99|Windy in the afte...|\n",
            "+-------+--------------------+--------------------+-----------+--------------------+------------------------+-------------------+------------------+----------------------+------------------+----------+--------------------+--------------------+\n",
            "\n"
          ]
        }
      ]
    },
    {
      "cell_type": "code",
      "metadata": {
        "id": "ZnDjCKEY0Bxr"
      },
      "source": [
        "# drop rows with missing values\n",
        "df = df.dropna() "
      ],
      "execution_count": null,
      "outputs": []
    },
    {
      "cell_type": "code",
      "metadata": {
        "id": "ED5GLvpv14a8"
      },
      "source": [
        "\n",
        "x=df.columns[-1]\n",
        "y=df.columns[1] # Dependent Variable\n"
      ],
      "execution_count": null,
      "outputs": []
    },
    {
      "cell_type": "code",
      "metadata": {
        "colab": {
          "base_uri": "https://localhost:8080/",
          "height": 35
        },
        "id": "5drtte7F-lvb",
        "outputId": "b029bfaa-4ff4-40f8-e273-68ef510153a8"
      },
      "source": [
        "y"
      ],
      "execution_count": null,
      "outputs": [
        {
          "output_type": "execute_result",
          "data": {
            "application/vnd.google.colaboratory.intrinsic+json": {
              "type": "string"
            },
            "text/plain": [
              "'Summary'"
            ]
          },
          "metadata": {},
          "execution_count": 15
        }
      ]
    },
    {
      "cell_type": "code",
      "metadata": {
        "id": "8lnWaTPL-J8M"
      },
      "source": [
        "\n",
        "from pyspark.ml.feature import VectorAssembler\n",
        "\n",
        "assembler = VectorAssembler(inputCols=x,outputCol='Summary')"
      ],
      "execution_count": null,
      "outputs": []
    },
    {
      "cell_type": "code",
      "metadata": {
        "id": "mdi0nwor-1Z4"
      },
      "source": [
        ""
      ],
      "execution_count": null,
      "outputs": []
    }
  ]
}